{
 "cells": [
  {
   "cell_type": "markdown",
   "source": [
    "# Task 1\r\n",
    "\r\n",
    "### Write a program that does the following:\r\n",
    "### a) Stores a random number (1-10) in a variable\r\n",
    "### b) Asks a user for their name and stores this in a variable.\r\n",
    "### c) Asks a user to guess the number between 1 and 10.\r\n",
    "### d) Tells the user whether they have guessed correctly"
   ],
   "metadata": {}
  },
  {
   "cell_type": "code",
   "execution_count": null,
   "source": [
    "import random\r\n",
    "user_name = input(\"What is your name? \")\r\n",
    "rnd_nr = random.randint(1,10)\r\n",
    "print(\"Hi \" + user_name + \". I am thinking about a number between 1 and 10\")\r\n",
    "\r\n",
    "def guess():\r\n",
    "    user_guess = int(input(\"Take a guess: \"))\r\n",
    "\r\n",
    "    if user_guess == rnd_nr:\r\n",
    "        print(\"Good job, \" + user_name +  \"! You guessed my number!\")\r\n",
    "    else:\r\n",
    "        print(\"That's not it. Keep trying! :)\")\r\n",
    "        guess()\r\n",
    "\r\n",
    "guess()\r\n",
    "#I know we were suposed to just check if the answer is right or wrong and then stop ...\r\n",
    "# but since you gave us the answer to this one I thought it would be more interesting to make it stop only when the guess is correct :)"
   ],
   "outputs": [],
   "metadata": {}
  },
  {
   "cell_type": "markdown",
   "source": [
    "# Task 2\r\n",
    "\r\n",
    "### Write a program that asks a user for their favourite number between 1 and 100 and then tells them a joke based on the number. You should use a minimum of 3 jokes.\r\n"
   ],
   "metadata": {}
  },
  {
   "cell_type": "code",
   "execution_count": null,
   "source": [
    "user_number = int(input(\"What's you favorite number between 1 and 100?\"))\r\n",
    "\r\n",
    "if user_number <25:\r\n",
    "    print(\"How does the ocean say hello? It waves.\")\r\n",
    "elif user_number <50:\r\n",
    "    print(\"Why shouldn’t you write with a broken pencil? Because it’s pointless.\")\r\n",
    "elif user_number <75:\r\n",
    "    print(\"What do you call two monkeys that share an Amazon account? Prime mates.\")\r\n",
    "else:\r\n",
    "    print(\"Why can’t a bicycle stand on it’s own? It is two tired.\")"
   ],
   "outputs": [],
   "metadata": {}
  },
  {
   "cell_type": "markdown",
   "source": [
    "# Task 3\r\n",
    "\r\n",
    "### Write a program that allows user to enter their favourite starter, main course, dessert and drink.\r\n",
    "### Concatenate these and output a message which says –“Your favourite meal is  .........with a glass of....”"
   ],
   "metadata": {}
  },
  {
   "cell_type": "code",
   "execution_count": null,
   "source": [
    "starter = str(input(\"What's your favorite starter?\"))\r\n",
    "main = str(input(\"What's your favorite main course?\"))\r\n",
    "dessert = str(input(\"What's your favorite dessert?\"))\r\n",
    "drink = str(input(\"What's your favorite drink?\"))\r\n",
    "\r\n",
    "print(\"Your favourite meal is\", starter + \",\", main ,\"and\", dessert , \"with a glass of\" , drink+ \".\")\r\n",
    "\r\n",
    "\r\n",
    "#or a more efficient but less readable version:\r\n",
    "#print(\"Your favourite meal is\", str(input(\"What's your favorite starter?\")) + \",\", str(input(\"What's your favorite main course?\")), \"and\", str(input(\"What's your favorite dessert?\")), \"with a glass of\", str(input(\"What's your favorite drink?\")) + \".\")\r\n"
   ],
   "outputs": [],
   "metadata": {}
  },
  {
   "cell_type": "markdown",
   "source": [
    "# Task 4\r\n",
    "\r\n",
    "### A motorbike costs £2000 and loses 10% of its value every year. Using a loop, print the value of the bike every following year until it falls below £1000."
   ],
   "metadata": {}
  },
  {
   "cell_type": "code",
   "execution_count": null,
   "source": [
    "y0 = 2000 #value in year 0\r\n",
    "r = 0.1 #depreciation rate\r\n",
    "y_n = y0 #value in year n\r\n",
    "n = 0 #year\r\n",
    "\r\n",
    "while y_n > 1000:\r\n",
    "    y_n = y0*(1 - r)**n\r\n",
    "    print(\"The value of the motorbike in year\", n , \"is\", y_n )\r\n",
    "    n += 1\r\n",
    "    "
   ],
   "outputs": [],
   "metadata": {}
  },
  {
   "cell_type": "markdown",
   "source": [
    "# Task 5\r\n",
    "\r\n",
    "### Write a program which will ask for two numbers from a user. Then offer a menu to the user giving them a choice of operator:\r\n",
    "### e.g. –Enter “a” if you want to add “b” if you want to subtract. Include +, -, /, *, ** square (to the power of).\r\n",
    "### Once the user has selected which operator they wish to use, perform the calculation."
   ],
   "metadata": {}
  },
  {
   "cell_type": "code",
   "execution_count": null,
   "source": [
    "n1, n2 = input(\"Hi! Enter two numbers (separated by space): \").split()\r\n",
    "n1 = int(n1)\r\n",
    "n2 = int(n2)\r\n",
    "\r\n",
    "def calc():\r\n",
    "     operator = input(\"Enter \\\"a\\\" for sum, \\\"b\\\" for difference, \\\"c\\\" for division, \\\"d\\\" for multiplication and \\\"e\\\" for raising to power.\")\r\n",
    "\r\n",
    "\r\n",
    "     if operator == \"a\":\r\n",
    "          print ( n1, \"+\", n2, \"=\", n1+n2 )\r\n",
    "     elif operator == \"b\":\r\n",
    "          print ( n1, \"-\", n2, \"=\", n1-n2 )\r\n",
    "     elif operator == \"c\":\r\n",
    "          print ( n1, \"/\", n2, \"=\", n1/n2 )\r\n",
    "     elif operator == \"d\":\r\n",
    "          print ( n1, \"*\", n2, \"=\", n1*n2 )\r\n",
    "     elif operator == \"e\":\r\n",
    "          print ( n1, \"**\", n2, \"=\", n1**n2 )\r\n",
    "     else: \r\n",
    "          print(\"Plese insert a valid option!\")\r\n",
    "          calc()\r\n",
    "\r\n",
    "calc()"
   ],
   "outputs": [],
   "metadata": {}
  }
 ],
 "metadata": {
  "orig_nbformat": 4,
  "language_info": {
   "name": "python",
   "version": "3.8.8",
   "mimetype": "text/x-python",
   "codemirror_mode": {
    "name": "ipython",
    "version": 3
   },
   "pygments_lexer": "ipython3",
   "nbconvert_exporter": "python",
   "file_extension": ".py"
  },
  "kernelspec": {
   "name": "python3",
   "display_name": "Python 3.8.8 64-bit ('base': conda)"
  },
  "interpreter": {
   "hash": "b26f49ba37b1900b8549eda13c208a4d6313a55c2c658604a0765dc1f02befcc"
  }
 },
 "nbformat": 4,
 "nbformat_minor": 2
}