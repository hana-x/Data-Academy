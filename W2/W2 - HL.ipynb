{
 "cells": [
  {
   "cell_type": "markdown",
   "metadata": {},
   "source": [
    "# Task 1\n",
    "## Flowchart code - Rock Paper Scissors"
   ]
  },
  {
   "cell_type": "code",
   "execution_count": null,
   "metadata": {},
   "outputs": [],
   "source": [
    "import random\n",
    "\n",
    "options = [\"rock\", \"paper\",\"scissors\"]\n",
    "computer_choice = random.choice(options)\n",
    "user_choice = input(\"Rock, paper or scissors?\")\n",
    "print(\"You chose\", user_choice + \",\", \"computer chose\", computer_choice + \".\")\n",
    "\n",
    "if user_choice == computer_choice:\n",
    "    print(\"Both of you selected\", user_choice + \".\", \"It's a tie!\")\n",
    "elif user_choice == \"rock\":\n",
    "    if computer_choice == \"scissors\":\n",
    "        print(\"Rock breaks scissors! You win!\")\n",
    "    else:\n",
    "        print(\"Paper covers rock! You lose.\")\n",
    "elif user_choice == \"paper\":\n",
    "    if computer_choice == \"rock\":\n",
    "        print(\"Paper covers rock! You win!\")\n",
    "    else:\n",
    "        print(\"Scissors cuts paper! You lose.\")\n",
    "elif user_choice == \"scissors\":\n",
    "    if computer_choice == \"paper\":\n",
    "        print(\"Scissors cuts paper! You win!\")\n",
    "    else:\n",
    "        print(\"Rock breaks scissors! You lose.\")"
   ]
  },
  {
   "cell_type": "markdown",
   "metadata": {},
   "source": [
    "# Task 2\n",
    "## As an extension  to the motorbike  task that costs £2000 and loses  10% of its value every  year. \n",
    "## Set up a function that performs  the calculation by passing in parameters. \n",
    "## Then using a loop, print the value of the bike every following year until it falls below £1000."
   ]
  },
  {
   "cell_type": "code",
   "execution_count": null,
   "metadata": {},
   "outputs": [],
   "source": [
    "def depreciation_calc(value, rate):\n",
    "    def loop():\n",
    "        n = 0 #year\n",
    "        value_n = value\n",
    "        while value_n > 1000:\n",
    "            value_n = value*(1 - rate/100)**n\n",
    "            print(\"The value of the motorbike in year\", n , \"is\" , value_n)\n",
    "            n += 1\n",
    "    return loop()\n",
    "        \n",
    "depreciation_calc(2000, 10)\n"
   ]
  },
  {
   "cell_type": "markdown",
   "metadata": {},
   "source": [
    "# Task 3\n",
    "## Write a program which will ask for two numbers from a user.  \n",
    "## Then offer an option menu to the user giving them a choice of maths operators. \n",
    "## Once the user has selected which operator they wish to use, perform the calculation by using a procedure and passing parameters. "
   ]
  },
  {
   "cell_type": "code",
   "execution_count": null,
   "metadata": {},
   "outputs": [],
   "source": [
    "n1, n2 = input(\"Hi! Enter two numbers (separated by space): \").split()\n",
    "n1 = int(n1)\n",
    "n2 = int(n2)\n",
    "operator = input(\"Enter \\\"a\\\" for sum, \\\"b\\\" for difference, \\\"c\\\" for division, \\\"d\\\" for multiplication and \\\"e\\\" for raising to power.\")\n",
    "\n",
    "def calc(n1, n2, operator):\n",
    "     \n",
    "     if operator == \"a\":\n",
    "          print ( n1, \"+\", n2, \"=\", n1+n2 )\n",
    "     elif operator == \"b\":\n",
    "          print ( n1, \"-\", n2, \"=\", n1-n2 )\n",
    "     elif operator == \"c\":\n",
    "          print ( n1, \"/\", n2, \"=\", n1/n2 )\n",
    "     elif operator == \"d\":\n",
    "          print ( n1, \"*\", n2, \"=\", n1*n2 )\n",
    "     elif operator == \"e\":\n",
    "          print ( n1, \"**\", n2, \"=\", n1**n2 )\n",
    "     else: \n",
    "          print(\"Plese insert a valid option!\")\n",
    "          calc()\n",
    "\n",
    "calc(n1, n2, operator)"
   ]
  }
 ],
 "metadata": {
  "interpreter": {
   "hash": "b26f49ba37b1900b8549eda13c208a4d6313a55c2c658604a0765dc1f02befcc"
  },
  "kernelspec": {
   "display_name": "Python 3.8.8 64-bit ('base': conda)",
   "name": "python3"
  },
  "language_info": {
   "codemirror_mode": {
    "name": "ipython",
    "version": 3
   },
   "file_extension": ".py",
   "mimetype": "text/x-python",
   "name": "python",
   "nbconvert_exporter": "python",
   "pygments_lexer": "ipython3",
   "version": "3.8.8"
  },
  "orig_nbformat": 4
 },
 "nbformat": 4,
 "nbformat_minor": 2
}
