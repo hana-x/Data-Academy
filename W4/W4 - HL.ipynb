{
 "cells": [
  {
   "cell_type": "markdown",
   "metadata": {},
   "source": [
    "# Task 1 - Create a CSV file of 15 holiday destinations for a website \n",
    "1. Add in a column of destinations\n",
    "2. Add in a column that shows feedback score out of 10 for that \n",
    "destination\n",
    "3. Add in a column for average hotel star rating for those \n",
    "destinations \n",
    "4. Add in a column for number of all-inclusive hotels within each \n",
    "destination\n",
    "5. Add in the most visited city in each destination"
   ]
  },
  {
   "cell_type": "code",
   "execution_count": null,
   "metadata": {},
   "outputs": [],
   "source": [
    "#All imports\n",
    "import pandas as pd\n",
    "import random"
   ]
  },
  {
   "cell_type": "code",
   "execution_count": null,
   "metadata": {},
   "outputs": [],
   "source": [
    "#I created the csv in Python instead of Excel for an extra challenge :)\n",
    "\n",
    "destinations = {\"Destinations\": [\"The Edge Observation Deck\",\"Machu Picchu\",\"Hana Highway\",\"Giza Pyramids\",\"Shibuya Crossing\",\"Burj Khalifa\",\"Gate of Heaven\",\"The Colosseum\",\"Tholos of Delphi\", \"Changdeokgung Palace\",\"The Alhambra\", \"Sydney Harbour\", \"Harder Kulm\",\"Moraine Lake\",\"Ibiza\"]}\n",
    "cities = {\"Most Visited Cities\": [\"New York\", \"Cuzco\",\"Honolulu\", \"Giza\", \"Tokyo\",\"Dubai\", \"Bali\", \"Rome\", \"Delphi\", \"Seoul\", \"Granada\", \"Sydney\", \"Interlaken\", \"Alberta\", \"Ibiza\"]}\n",
    "\n",
    "# creates feedback score\n",
    "feedback = []\n",
    "for i in range(0, 15):\n",
    "    feedback.append(round(random.uniform(1,10),1))\n",
    "# feedback = {\"Feedback Score\": feedback}\n",
    "\n",
    "# creates average hotel rating out of 5\n",
    "hotel_ratings = []\n",
    "for i in range(0, 15):\n",
    "    hotel_ratings.append(round(random.uniform(1.5,5),1))\n",
    "\n",
    "#creates number of all-inclusive hotels\n",
    "all_in = []\n",
    "for i in range(0, 15):\n",
    "    all_in.append(random.randint(1,15))\n",
    "\n",
    "#creates dictionary from feedback, hotel ratings and all-in hotels lists\n",
    "dc = {\"Feedback Score\": feedback, \"Average Hotel Rating\": hotel_ratings, \"All-in Hotels\": all_in}\n",
    "\n",
    "#creates dataframe with all data\n",
    "df = pd.DataFrame({**destinations, **dc, **cities})\n",
    "\n",
    "#export dataframe to .csv\n",
    "data = df.to_csv(\"travel_destinations.csv\",index=False)\n"
   ]
  },
  {
   "cell_type": "markdown",
   "metadata": {},
   "source": [
    "# Task 2\n",
    "1. How many rows and columns are there in your file?\n",
    "2. Print row 3-8 ( using iloc/loc).\n",
    "3. Find the mean number of all-inclusive hotels across all destinations.\n",
    "4. Find the lowest scoring destination.\n",
    "5. Find the highest scoring destination.\n",
    "6. Find all the destinations where there are more than 9 all-inclusive hotels. \n",
    "7. Filter the data by score above 8.  \n",
    "8. Filter the data score below 2 ( I need to know if these destinations should be removed or there is a problem)  \n",
    "# Extension                                                                                                                    \n",
    "1. Is there a correlation between number of all-inclusive hotels and score?\n",
    "2. Create a data visualisation diagram to show destination and highest scores?"
   ]
  },
  {
   "cell_type": "code",
   "execution_count": null,
   "metadata": {},
   "outputs": [],
   "source": [
    "#create travel data by reading csv file\n",
    "td = pd.read_csv(\"travel_destinations.csv\")\n",
    "\n",
    "#1\n",
    "rows, columns = td.shape\n",
    "\n",
    "#2\n",
    "# print(td.iloc[3:9])\n",
    "\n",
    "#3\n",
    "mean_all_in = td[\"All-in Hotels\"].mean()\n",
    "\n",
    "#4\n",
    "lowest_dest = td[\"Destinations\"].min()\n",
    "\n",
    "#5\n",
    "highest_dest = td[\"Destinations\"].max()\n",
    "\n",
    "#6\n",
    "m9_allin = td[td[\"All-in Hotels\"] > 9]\n",
    "\n",
    "#7\n",
    "abv8 = td[td[\"Feedback Score\"] > 8]\n",
    "\n",
    "#8 - not sure if this is what you meant...\n",
    "for dest in td.Destinations[td[\"Feedback Score\"] < 2]:\n",
    "    print (\"Redflag for: \", dest) \n",
    "\n",
    "#E1\n",
    "td.plot.scatter(x = \"All-in Hotels\",y = \"Feedback Score\")\n",
    "r = td[\"All-in Hotels\"].corr(td[\"Feedback Score\"])\n",
    "print(r)\n",
    "\n",
    "#E2\n",
    "td.plot.bar(x = 'Destinations',y = 'Feedback Score')\n",
    "#just the highest 5\n",
    "td.sort_values(by=\"Feedback Score\", ascending=False)[0:5].plot.bar(x = 'Destinations',y = 'Feedback Score')\n"
   ]
  }
 ],
 "metadata": {
  "interpreter": {
   "hash": "b26f49ba37b1900b8549eda13c208a4d6313a55c2c658604a0765dc1f02befcc"
  },
  "kernelspec": {
   "display_name": "Python 3.8.8 64-bit ('base': conda)",
   "name": "python3"
  },
  "language_info": {
   "codemirror_mode": {
    "name": "ipython",
    "version": 3
   },
   "file_extension": ".py",
   "mimetype": "text/x-python",
   "name": "python",
   "nbconvert_exporter": "python",
   "pygments_lexer": "ipython3",
   "version": "3.8.8"
  },
  "orig_nbformat": 4
 },
 "nbformat": 4,
 "nbformat_minor": 2
}
